{
 "cells": [
  {
   "cell_type": "markdown",
   "id": "6c2d7aec",
   "metadata": {},
   "source": [
    "# Data Science Final Project\n",
    "\n"
   ]
  },
  {
   "cell_type": "markdown",
   "id": "3f046235",
   "metadata": {},
   "source": [
    "## Introduction\n",
    "This notebook is designed to cover various essential elements of data science, from programming languages and libraries to basic arithmetic operations.\n"
   ]
  },
  {
   "cell_type": "markdown",
   "id": "d3d46bd3",
   "metadata": {},
   "source": [
    "## Data Science Languages\n",
    "- Python\n",
    "- R\n",
    "- SQL\n",
    "- Julia\n",
    "- Scala\n"
   ]
  },
  {
   "cell_type": "markdown",
   "id": "f82c6f8b",
   "metadata": {},
   "source": [
    "## Data Science Libraries\n",
    "- Pandas\n",
    "- NumPy\n",
    "- Matplotlib\n",
    "- Scikit-Learn\n",
    "- TensorFlow\n",
    "- Keras\n"
   ]
  },
  {
   "cell_type": "markdown",
   "id": "9f091c59",
   "metadata": {},
   "source": [
    "## Data Science Tools\n",
    "\n",
    "| Tool           | Description                             |\n",
    "|----------------|-----------------------------------------|\n",
    "| Jupyter Notebook | Interactive coding and data visualization |\n",
    "| RStudio         | IDE for R programming                    |\n",
    "| Tableau         | Data visualization tool                  |\n"
   ]
  },
  {
   "cell_type": "markdown",
   "id": "aadad869",
   "metadata": {},
   "source": [
    "## Arithmetic Expression Examples\n",
    "This section demonstrates simple arithmetic operations, including addition and multiplication.\n"
   ]
  },
  {
   "cell_type": "code",
   "execution_count": null,
   "id": "282367af",
   "metadata": {},
   "outputs": [],
   "source": [
    "# Multiplying and Adding Numbers\n",
    "result = (3 * 4) + 5\n",
    "result\n"
   ]
  },
  {
   "cell_type": "code",
   "execution_count": null,
   "id": "667c8010",
   "metadata": {},
   "outputs": [],
   "source": [
    "# Converting Minutes to Hours\n",
    "minutes = 200\n",
    "hours = minutes / 60\n",
    "hours\n"
   ]
  },
  {
   "cell_type": "markdown",
   "id": "47271718",
   "metadata": {},
   "source": [
    "## Objectives\n",
    "- Understand the fundamental languages used in data science\n",
    "- Learn about popular libraries in data science\n",
    "- Explore commonly used data science tools\n",
    "- Perform basic arithmetic operations in Python\n",
    "- Share the project on GitHub\n"
   ]
  },
  {
   "cell_type": "markdown",
   "id": "9daf879f",
   "metadata": {},
   "source": [
    "## Author\n",
    "Mrudula OWK\n"
   ]
  }
 ],
 "metadata": {
  "kernelspec": {
   "display_name": "Python 3 (ipykernel)",
   "language": "python",
   "name": "python3"
  },
  "language_info": {
   "codemirror_mode": {
    "name": "ipython",
    "version": 3
   },
   "file_extension": ".py",
   "mimetype": "text/x-python",
   "name": "python",
   "nbconvert_exporter": "python",
   "pygments_lexer": "ipython3",
   "version": "3.11.5"
  }
 },
 "nbformat": 4,
 "nbformat_minor": 5
}
